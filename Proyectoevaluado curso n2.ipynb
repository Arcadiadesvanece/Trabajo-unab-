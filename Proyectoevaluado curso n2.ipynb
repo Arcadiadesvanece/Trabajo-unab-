{
 "cells": [
  {
   "cell_type": "markdown",
   "id": "678645d2-be79-43ac-b3ea-39ae939d1897",
   "metadata": {},
   "source": [
    "Titulo de proyecto (Ejercicio 2)\n",
    "**Proyecto de laboratorio** "
   ]
  },
  {
   "cell_type": "markdown",
   "id": "55905fea-e215-4c48-bcb5-be0a4e245492",
   "metadata": {},
   "source": [
    "Introducción(Ejercicio 3)\n",
    "El uso de Jupyter Notebook no solo facilita la escritura y ejecución de código, sino que también fomenta una documentación clara y accesible,\n",
    "permitiendo compartir proyectos de manera eficiente y replicable. A medida que el trabajo en ciencia de datos se vuelve más complejo, herramientas como Jupyter continúan siendo esenciales para la creación de soluciones innovadoras.\n",
    "\n"
   ]
  },
  {
   "cell_type": "markdown",
   "id": "5c62dcc7-be41-40a3-97eb-b9c0dabf5f85",
   "metadata": {},
   "source": [
    "Tipos de lenguaje(ejercicio 4)\n",
    "- Python\n",
    "- Java\n",
    "- R\n",
    "- SQL\n",
    "- JASON"
   ]
  },
  {
   "cell_type": "markdown",
   "id": "9dd420af-0fc0-41aa-8885-d5c3c905fc0b",
   "metadata": {},
   "source": [
    "Tipos de biblotecas (ejercicio 5)\n",
    "1. **Pandas**: Manipulación y análisis de datos.\n",
    "2. **NumPy**: Cálculos numéricos y matrices multidimensionales.\n",
    "3. **Matplotlib**: Visualización de datos.\n",
    "4. **Scikit-learn**: Aprendizaje automático.\n",
    "5. **TensorFlow**: Aprendizaje profundo."
   ]
  },
  {
   "cell_type": "markdown",
   "id": "c5827762-1e86-40ec-b869-4cdeb22fed96",
   "metadata": {},
   "source": [
    "tabla de herramientas de Ciencia de Datos(ejercicio 6)\n",
    "\n",
    "- **Azure Synapse**\n",
    "- **Azure Databricks**\n",
    "- **Git**"
   ]
  },
  {
   "cell_type": "markdown",
   "id": "99e85284-17dd-484d-bb37-8130f240f457",
   "metadata": {},
   "source": [
    "Expresiones aritmeticas (ejercicio 7)\n",
    "1. **Suma**: `3 + 5 = 8`\n",
    "2. **Resta**: `10 - 4 = 6`\n",
    "3. **Multiplicación**: `4 * 7 = 28`\n",
    "4. **División**: `20 / 5 = 4`"
   ]
  },
  {
   "cell_type": "code",
   "execution_count": 30,
   "id": "0ac417d2-1294-4ac4-b512-0de1f01b0e8e",
   "metadata": {},
   "outputs": [
    {
     "name": "stdin",
     "output_type": "stream",
     "text": [
      "Ingresa el primer número:  2\n",
      "Ingresa el segundo número:  2\n"
     ]
    },
    {
     "name": "stdout",
     "output_type": "stream",
     "text": [
      "La multiplicación de 2.0 y 2.0 es: 4.0\n",
      "La suma de 2.0 y 2.0 es: 4.0\n"
     ]
    }
   ],
   "source": [
    "##Ejercicio 8 - Cree una celda de códigopara multiplicar y sumar números. (2 ptos)\n",
    "\n",
    "num1 = float(input(\"Ingresa el primer número: \"))\n",
    "num2 = float(input(\"Ingresa el segundo número: \"))\n",
    "producto = num1 * num2\n",
    "suma = num1 + num2\n",
    "print(f\"La multiplicación de {num1} y {num2} es: {producto}\")\n",
    "print(f\"La suma de {num1} y {num2} es: {suma}\")"
   ]
  },
  {
   "cell_type": "code",
   "execution_count": 36,
   "id": "01a18818-4534-4b00-82f0-85415575407c",
   "metadata": {},
   "outputs": [
    {
     "name": "stdin",
     "output_type": "stream",
     "text": [
      "Ingresa los minutoss: 60\n"
     ]
    },
    {
     "name": "stdout",
     "output_type": "stream",
     "text": [
      "Los minutos ingresados 60.0 son 1.0 horas\n"
     ]
    }
   ],
   "source": [
    "##Ejercicio 9 - Cree una celda de código para convertir minutos en horas\n",
    "\n",
    "minutos = float(input(\"Ingresa los minutoss:\"))\n",
    "\n",
    "Horas = minutos/60\n",
    "\n",
    "print(f\"Los minutos ingresados {minutos} son {Horas} horas\")"
   ]
  },
  {
   "cell_type": "code",
   "execution_count": 38,
   "id": "e4ab1fa0-31f5-4d3d-bc07-6c24d7ba40a9",
   "metadata": {},
   "outputs": [],
   "source": [
    "##Ejercicio 10 -Inserte una celda de código para listar Objetivos.\n",
    "objetivos = [\n",
    "    \"Aprender sobre lenguajes de ciencia de datos.\",\n",
    "    \"Explorar bibliotecas populares en Python.\",\n",
    "    \"Practicar la manipulación y análisis de datos.\",\n",
    "    \"Compartir el cuaderno en GitHub.\"\n",
    "]"
   ]
  },
  {
   "cell_type": "markdown",
   "id": "25dec621-aa49-4872-a0c2-ffdf0452edb6",
   "metadata": {},
   "source": [
    "Ejercicio 11 - Cree una celda markdown para indicar el nombre del Autor. \n",
    "\n",
    "**Nombre de autor de codigo IGNACIO CORNEJO ESCOBILLANA**"
   ]
  },
  {
   "cell_type": "code",
   "execution_count": null,
   "id": "ff0fefb8-2c9b-4a9d-8c05-5aa7b6873b36",
   "metadata": {},
   "outputs": [],
   "source": []
  }
 ],
 "metadata": {
  "kernelspec": {
   "display_name": "Python 3 (ipykernel)",
   "language": "python",
   "name": "python3"
  },
  "language_info": {
   "codemirror_mode": {
    "name": "ipython",
    "version": 3
   },
   "file_extension": ".py",
   "mimetype": "text/x-python",
   "name": "python",
   "nbconvert_exporter": "python",
   "pygments_lexer": "ipython3",
   "version": "3.12.7"
  }
 },
 "nbformat": 4,
 "nbformat_minor": 5
}
